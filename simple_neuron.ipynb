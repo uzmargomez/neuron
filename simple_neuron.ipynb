{
 "cells": [
  {
   "cell_type": "code",
   "execution_count": 1,
   "id": "f87ff210",
   "metadata": {},
   "outputs": [],
   "source": [
    "import matplotlib.pyplot as plt\n",
    "import numpy as np\n",
    "from IPython.core.display import SVG\n",
    "\n",
    "plt.rcParams['figure.figsize'] = [12, 9]"
   ]
  },
  {
   "cell_type": "markdown",
   "id": "1d486131",
   "metadata": {},
   "source": [
    "# Simple Neuron from the Ground Up"
   ]
  },
  {
   "cell_type": "markdown",
   "id": "a0e21bfd",
   "metadata": {},
   "source": [
    "## Linear regression"
   ]
  },
  {
   "cell_type": "markdown",
   "id": "a25320df",
   "metadata": {},
   "source": [
    "The slope of a straight line is closely related to the angle made by the line with the x-axis, since \n",
    "\n",
    "$$m=\\tan\\theta=\\frac{\\text{Opposite}}{\\text{Adjacent}}=\\frac{y-y_0}{x-x_0}$$\n",
    "\n",
    "If we would want to know the derivative of a certain function, we just need to take really close points on that function and draw a straight line. This leads to the definition of derivative\n",
    "\n",
    "$$\\frac{dy}{dx}=\\lim_{h\\to 0} \\frac{y(x+h)-y(x)}{h}=\\lim_{x\\to x_0} \\frac{y(x)-y(x_0)}{x-x_0}$$\n",
    "\n",
    "and it basically tells the amount of change in $y$ when $x$ changes a little\n",
    "\n",
    "Rearranging this, we find that a good approximation of $y$ close to $x_0$ is\n",
    "\n",
    "$$y(x) = y(x_0)+ \\left.\\frac{dy}{dx}\\right|_{x_0}\\left(x-x_0\\right)$$\n",
    "\n",
    "or\n",
    "\n",
    "$$y(x) = \\left.\\frac{dy}{dx}\\right|_{x_0} x + y(x_0) - \\left.\\frac{dy}{dx}\\right|_{x_0} x_0$$\n",
    "\n",
    "Since the last two terms are constant, we can rewrite this using $\\left.\\frac{dy}{dx}\\right|_{x_0} = w$ and $ b = y(x_0) - \\left.\\frac{dy}{dx}\\right|_{x_0} x_0$ as\n",
    "\n",
    "$$y(x) = wx+b$$\n",
    "\n",
    "![righttriangle](img/right_triangle.png)"
   ]
  },
  {
   "cell_type": "markdown",
   "id": "e4c175bd",
   "metadata": {},
   "source": [
    "## Activation Function"
   ]
  },
  {
   "cell_type": "markdown",
   "id": "f0635f6e",
   "metadata": {},
   "source": [
    "The purpose of an activation function is to introduce non-linearity to the output of a neuron.\n",
    "\n",
    "Given $\\vec{x}\\in \\mathcal{R}^{n_x}$, we want to find $\\hat{y}$ which is, for example, the probability of $y=1$ on binary classification.\n",
    "\n",
    "The parameters are the weights $\\vec{w}\\in \\mathcal{R}^{n_x}$ and the bias $b\\in\\mathcal{R}$.\n",
    "\n",
    "The output is $\\hat{y}=\\rho\\left({\\vec{w}}^{T}\\cdot \\vec{x} + b\\right)$, when $\\rho$ is the sigmoid function, defined as\n",
    "$$\\rho(z) = \\frac{1}{1+\\exp^{-z}}$$"
   ]
  },
  {
   "cell_type": "code",
   "execution_count": 2,
   "id": "779f4564",
   "metadata": {},
   "outputs": [],
   "source": [
    "# Exponential in series definition\n",
    "def expuz(x, n=10000000):\n",
    "    return (1.+x/n)**n\n",
    "\n",
    "# Sigmoid function definition\n",
    "def ρ(x):\n",
    "    return 1./(1. + expuz(-x))"
   ]
  },
  {
   "cell_type": "code",
   "execution_count": 3,
   "id": "4912163c",
   "metadata": {},
   "outputs": [
    {
     "data": {
      "image/png": "[encoded data removed]",
      "text/plain": [
       "<Figure size 864x648 with 1 Axes>"
      ]
     },
     "metadata": {
      "needs_background": "light"
     },
     "output_type": "display_data"
    }
   ],
   "source": [
    "# Plotting sigmoid\n",
    "\n",
    "z = np.linspace(-5,5,500)\n",
    "y = ρ(z)\n",
    "\n",
    "plt.plot(z,y)\n",
    "plt.xlabel(r'$z$')\n",
    "plt.ylabel(r'$\\frac{1}{1+\\exp^{-z}}$')\n",
    "plt.title('Sigmoid function')\n",
    "plt.grid()\n",
    "plt.show()\n"
   ]
  },
  {
   "cell_type": "markdown",
   "id": "05b53c79",
   "metadata": {},
   "source": [
    "## Cost function"
   ]
  },
  {
   "cell_type": "markdown",
   "id": "c9d679c8",
   "metadata": {},
   "source": [
    "Given a set of $m$ training examples $\\vec{x}^{(i)}$ with $i\\in\\{0,1,\\dots,m\\}$, and the appropiate labels $y^{(i)}$, we want the prediction $\\hat{y}^{(i)}$ to be $\\hat{y}^{(i)}\\approx y^{(i)}$\n",
    "\n",
    "We define an **Error function** (or **Loss function**). We could select the squared error\n",
    "\n",
    "$$\\mathcal{L}\\left(\\hat{y},y\\right)=\\frac{1}{2}\\left(\\hat{y}-y\\right)^2$$\n",
    "\n",
    "remembering that this may not achieve a global minima, since the optimization problem becames non-convex.\n",
    "\n",
    "We define the **Cost function** as \n",
    "\n",
    "$$J(\\vec{w},b) = \\frac{1}{m}\\sum_{i=1}^m \\mathcal{L}\\left(\\hat{y}^{(i)}, y^{(i)}\\right)$$"
   ]
  },
  {
   "cell_type": "markdown",
   "id": "43d67885",
   "metadata": {},
   "source": [
    "## Gradient Descent"
   ]
  },
  {
   "cell_type": "markdown",
   "id": "4372c7e4",
   "metadata": {},
   "source": [
    "Find the $\\vec{w}$ and $b$ that minimize $J(\\vec{w},b)$. In order to do that, we just need to repeat\n",
    "\n",
    "$$w_{j,t+1} = w_{j,t}-\\alpha \\frac{\\partial J(\\vec{w}_t,b_t)}{\\partial w_{j,t}}$$\n",
    "\n",
    "$$b_{t+1} = b_{t}-\\alpha \\frac{\\partial J(\\vec{w}_t,b_t)}{\\partial b_t}$$\n",
    "\n",
    "Where $j$ is the j-component of the vector $\\vec{w}$. Using the above definition of the loss function, we derive with respect to $w_j$\n",
    "\n",
    "$\\frac{\\partial J(\\vec{w},b)}{\\partial w_j}=\\frac{\\partial}{\\partial w_j}\\left[\\frac{1}{m}\\sum_{i=1}^m\\mathcal{L}\\left(\\hat{y}^{(i)}, y^{(i)}\\right)\\right] = \\frac{1}{m}\\sum_{i=1}^m\\frac{\\partial}{\\partial w_j}\\left[\\mathcal{L}\\left(\\hat{y}^{(i)}, y^{(i)}\\right)\\right] =\\frac{1}{m}\\sum_{i=1}^m\\frac{\\partial}{\\partial w_j}\\left[\\frac{1}{2}\\left(\\hat{y}^{(i)}-y^{(i)}\\right)^2\\right]$\n",
    "\n",
    "Let's derive the last expression, and let's not use the $i$ superscript to don't get confuse with notation, keeping it mind this will be done for every $\\left(\\vec{x}^{(i)},\\hat{y}^{(i)}\\right)$ sample set\n",
    "\n",
    "$\\frac{\\partial}{\\partial w_j}\\left[\\frac{1}{2}\\left(\\hat{y}-y\\right)^2\\right]=\\left(\\hat{y}-y\\right)\\frac{\\partial}{\\partial w_j}\\left[\\hat{y}-y\\right]=\\left(\\hat{y}-y\\right)\\frac{\\partial\\hat{y}}{\\partial w_j}=\\left(\\hat{y}-y\\right)\\frac{d\\rho}{dz}\\frac{\\partial z}{\\partial w_j}$\n",
    "\n",
    "where $\\hat{y}^{(i)}=\\rho\\left(z^{(i)}\\right)=\\rho\\left(\\vec{w}\\cdot \\vec{x}^{(i)} + b\\right)$.\n",
    "\n",
    "Let's first get partial derivative of the sigmoid function with respect to $z$.\n",
    "\n",
    "$$\\frac{d\\rho}{dz}=\\frac{d}{dz}\\left(\\frac{1}{1+\\exp^{-z}}\\right)=\\left(\\frac{1}{1+\\exp^{-z}}\\right)^2\\left(\\exp^{-z}\\right)=\\rho\\left(z\\right)^2\\left(\\frac{1}{\\rho(z)}-1\\right)=\\rho(z)(1-\\rho(z))$$\n",
    "\n",
    "Finally\n",
    "\n",
    "$$\\frac{\\partial z^{(i)}}{\\partial w_j}=x^{(i)}_j$$\n",
    "\n",
    "Therefore\n",
    "\n",
    "$$\\frac{\\partial J(\\vec{w},b)}{\\partial w_j}=\\frac{1}{m}\\sum_{i=1}^m\\left(\\hat{y}^{(i)}-y^{(i)}\\right)\\frac{d\\rho}{dz^{(i)}}\\frac{\\partial z^{(i)}}{\\partial w_j}= \\left[\\rho\\left(z^{(i)}\\right)-y^{(i)}\\right]\\rho\\left(z^{(i)}\\right)\\left[1-\\rho\\left(z^{(i)}\\right)\\right]x^{(i)}_j$$"
   ]
  },
  {
   "cell_type": "markdown",
   "id": "69c4e6f3",
   "metadata": {},
   "source": [
    "## Single Neuron Plot (One training sample)"
   ]
  },
  {
   "cell_type": "markdown",
   "id": "947ff2d6",
   "metadata": {},
   "source": [
    "![neuron](img/neuron.png)"
   ]
  },
  {
   "cell_type": "code",
   "execution_count": 4,
   "id": "6b35a82d",
   "metadata": {},
   "outputs": [
    {
     "name": "stdout",
     "output_type": "stream",
     "text": [
      "Predicted value after 500 iterations: 0.3066439406939304\n"
     ]
    }
   ],
   "source": [
    "# Input\n",
    "x = [0.2, 0.1, 0.3]\n",
    "\n",
    "# Initial weights\n",
    "w = [0.25, 0.2, 0.4]\n",
    "\n",
    "# Training step (learning rate)\n",
    "α = 1\n",
    "\n",
    "# Desired output\n",
    "y = 0.3\n",
    "\n",
    "# Iterations\n",
    "t = 500\n",
    "n = len(x)\n",
    "\n",
    "J = []\n",
    "\n",
    "for i in range(t):\n",
    "    xw = 0.0\n",
    "\n",
    "    for j in range(n):\n",
    "        xw += x[j]*w[j]\n",
    "        \n",
    "    dJdw = []\n",
    "\n",
    "    # Computing gradient\n",
    "    for j in range(n):\n",
    "        dJdw.append((ρ(xw)-y)*ρ(xw)*(1.-ρ(xw))*x[j])\n",
    "\n",
    "    # Weight update using gradient descend\n",
    "    for j in range(n):\n",
    "        w[j] -= α * dJdw[j]\n",
    "\n",
    "    J.append(0.5*(ρ(xw)-y)**2)\n",
    "        \n",
    "print(\"Predicted value after\", t, \"iterations:\" , ρ(xw))"
   ]
  },
  {
   "cell_type": "markdown",
   "id": "a9f67877",
   "metadata": {},
   "source": [
    "### Cost function plot"
   ]
  },
  {
   "cell_type": "code",
   "execution_count": 5,
   "id": "e991d823",
   "metadata": {},
   "outputs": [
    {
     "data": {
      "text/plain": [
       "Text(0.5, 1.0, 'Cost Function Plot')"
      ]
     },
     "execution_count": 5,
     "metadata": {},
     "output_type": "execute_result"
    },
    {
     "data": {
      "image/png": "[encoded data removed]",
      "text/plain": [
       "<Figure size 864x648 with 1 Axes>"
      ]
     },
     "metadata": {
      "needs_background": "light"
     },
     "output_type": "display_data"
    }
   ],
   "source": [
    "iteration = np.arange(len(J))\n",
    "plt.plot(iteration,J,'r')\n",
    "plt.grid()\n",
    "plt.xlabel('Iteration')\n",
    "plt.ylabel(r'$J = \\frac{1}{2}\\left(\\sigma(z)-y \\right)^2$')\n",
    "plt.xlim(0,250)\n",
    "plt.title('Cost Function Plot')"
   ]
  },
  {
   "cell_type": "markdown",
   "id": "bcc039e0",
   "metadata": {},
   "source": [
    "## Single Neuron Plot (Two training samples)"
   ]
  },
  {
   "cell_type": "code",
   "execution_count": 8,
   "id": "282831c2",
   "metadata": {},
   "outputs": [
    {
     "name": "stdout",
     "output_type": "stream",
     "text": [
      "Predicted values after 18000 iterations: 0.21448763967830714   0.7919242450279652\n"
     ]
    }
   ],
   "source": [
    "# Input\n",
    "x_1 = [0.2, 0.1, 0.3]\n",
    "x_2 = [0.5, 0.2, 0.4]\n",
    "\n",
    "# Initial weights\n",
    "w = [0.25, 0.2, 0.4]\n",
    "\n",
    "# Training step (learning rate)\n",
    "α = 1\n",
    "\n",
    "# Desired output\n",
    "y_1 = 0.2\n",
    "y_2 = 0.8\n",
    "\n",
    "# Iterations\n",
    "t = 18000\n",
    "n = len(x)\n",
    "\n",
    "J = []\n",
    "\n",
    "for i in range(t):\n",
    "    xw1 = 0.0\n",
    "    xw2 = 0.0\n",
    "\n",
    "    for j in range(n):\n",
    "        xw1 += x_1[j]*w[j]\n",
    "        xw2 += x_2[j]*w[j]\n",
    "        \n",
    "    dJdw_1 = []\n",
    "    dJdw_2 = []\n",
    "    \n",
    "    # Computing gradient\n",
    "    for j in range(n):\n",
    "        dJdw_1.append((ρ(xw1)-y_1)*ρ(xw1)*(1.-ρ(xw1))*x_1[j])\n",
    "        dJdw_2.append((ρ(xw2)-y_2)*ρ(xw2)*(1.-ρ(xw2))*x_2[j])\n",
    "\n",
    "    # Weight update using gradient descend\n",
    "    for j in range(n):\n",
    "        w[j] -= α * (dJdw_1[j]+dJdw_2[j])/2\n",
    "\n",
    "    J.append( (1/2) * (0.5*(ρ(xw1)-y_1)**2 + 0.5*(ρ(xw2)-y_2)**2) )\n",
    "        \n",
    "print(\"Predicted values after\", t, \"iterations:\" , ρ(xw1), \" \",ρ(xw2))"
   ]
  },
  {
   "cell_type": "code",
   "execution_count": 9,
   "id": "bd9c29bd",
   "metadata": {},
   "outputs": [
    {
     "data": {
      "text/plain": [
       "Text(0.5, 1.0, 'Cost Function Plot')"
      ]
     },
     "execution_count": 9,
     "metadata": {},
     "output_type": "execute_result"
    },
    {
     "data": {
      "image/png": "[encoded data removed]",
      "text/plain": [
       "<Figure size 864x648 with 1 Axes>"
      ]
     },
     "metadata": {
      "needs_background": "light"
     },
     "output_type": "display_data"
    }
   ],
   "source": [
    "iteration = np.arange(len(J))\n",
    "plt.plot(iteration,J,'r')\n",
    "plt.grid()\n",
    "plt.xlabel('Iteration')\n",
    "plt.ylabel(r'$J = \\frac{1}{m}\\sum_i^m\\frac{1}{2}\\left(\\sigma(z^{(i)})-y^{(i)} \\right)^2$')\n",
    "plt.title('Cost Function Plot')"
   ]
  },
  {
   "cell_type": "markdown",
   "id": "44f6de60",
   "metadata": {},
   "source": [
    "### Final comment\n",
    "\n",
    "Python Numpy packages would make this easier and more efficient by vectorizing the input vectors as well as putting this vectors on a matrix to send \"batches\" to the neural network, but it is worth noticing we can do exactly the same by using simple lists."
   ]
  },
  {
   "cell_type": "code",
   "execution_count": null,
   "id": "631bf1bf",
   "metadata": {},
   "outputs": [],
   "source": []
  }
 ],
 "metadata": {
  "kernelspec": {
   "display_name": "Python 3",
   "language": "python",
   "name": "python3"
  },
  "language_info": {
   "codemirror_mode": {
    "name": "ipython",
    "version": 3
   },
   "file_extension": ".py",
   "mimetype": "text/x-python",
   "name": "python",
   "nbconvert_exporter": "python",
   "pygments_lexer": "ipython3",
   "version": "3.8.5"
  }
 },
 "nbformat": 4,
 "nbformat_minor": 5
}
