{
 "cells": [
  {
   "cell_type": "code",
   "execution_count": 1,
   "id": "f87ff210",
   "metadata": {},
   "outputs": [],
   "source": [
    "import matplotlib.pyplot as plt\n",
    "import numpy as np"
   ]
  },
  {
   "cell_type": "markdown",
   "id": "1d486131",
   "metadata": {},
   "source": [
    "# Simple Neuron from the Ground Up"
   ]
  },
  {
   "cell_type": "markdown",
   "id": "a0e21bfd",
   "metadata": {},
   "source": [
    "## Linear regression"
   ]
  },
  {
   "cell_type": "markdown",
   "id": "a25320df",
   "metadata": {},
   "source": [
    "The slope of a straight line is closely related to the angle made by the line with the x-axis, since \n",
    "\n",
    "$$m=\\tan\\theta=\\frac{\\text{Opposite}}{\\text{Adjacent}}=\\frac{y-y_0}{x-x_0}$$\n",
    "\n",
    "If we would want to know the derivative of a certain function, we just need to take really close points on that function and draw a straight line. This leads to the definition of derivative\n",
    "\n",
    "$$\\frac{dy}{dx}=\\lim_{h\\to 0} \\frac{y(x+h)-y(x)}{h}=\\lim_{x\\to x_0} \\frac{y(x)-y(x_0)}{x-x_0}$$\n",
    "\n",
    "and it basically tells the amount of change in $y$ when $x$ changes a little\n",
    "\n",
    "Rearranging this, we find that a good approximation of $y$ close to $x_0$ is\n",
    "\n",
    "$$y(x) = y(x_0)+ \\left.\\frac{dy}{dx}\\right|_{x_0}\\left(x-x_0\\right)$$\n",
    "\n",
    "or\n",
    "\n",
    "$$y(x) = \\left.\\frac{dy}{dx}\\right|_{x_0} x + y(x_0) - \\left.\\frac{dy}{dx}\\right|_{x_0} x_0$$\n",
    "\n",
    "Since the last two terms are constant, we can rewrite this using $\\left.\\frac{dy}{dx}\\right|_{x_0} = w$ and $ b = y(x_0) - \\left.\\frac{dy}{dx}\\right|_{x_0} x_0$ as\n",
    "\n",
    "$$y(x) = wx+b$$\n",
    "\n",
    "![righttriangle](img/right_triangle.jpg)"
   ]
  },
  {
   "cell_type": "markdown",
   "id": "e4c175bd",
   "metadata": {},
   "source": [
    "## Activation Function"
   ]
  },
  {
   "cell_type": "markdown",
   "id": "f0635f6e",
   "metadata": {},
   "source": [
    "The purpose of an activation function is to introduce non-linearity to the output of a neuron.\n",
    "\n",
    "Given $x\\in \\mathcal{R}^{n_x}$, we want to find $\\hat{y}$ which is, for example, the probability of $y=1$ on binary classification.\n",
    "\n",
    "The parameters are the weights $w\\in \\mathcal{R}^{n_x}$ and the bias $b\\in\\mathcal{R}$.\n",
    "\n",
    "The output is $\\hat{y}=\\sigma\\left(w^T x + b\\right)$, when $\\sigma$ is the sigmoid function, defined as\n",
    "$$\\sigma(z) = \\frac{1}{1+\\exp^{-z}}$$"
   ]
  },
  {
   "cell_type": "code",
   "execution_count": 1,
   "id": "779f4564",
   "metadata": {},
   "outputs": [],
   "source": [
    "# Exponential in series definition\n",
    "def expuz(x, n=10000000):\n",
    "    return (1.+x/n)**n\n",
    "\n",
    "# Sigmoid function definition\n",
    "def sigmoid(x):\n",
    "    return 1./(1.+expuz(-x))"
   ]
  },
  {
   "cell_type": "code",
   "execution_count": 10,
   "id": "4912163c",
   "metadata": {},
   "outputs": [
    {
     "data": {
      "image/png": "[encoded data removed]",
      "text/plain": [
       "<Figure size 432x288 with 1 Axes>"
      ]
     },
     "metadata": {
      "needs_background": "light"
     },
     "output_type": "display_data"
    }
   ],
   "source": [
    "# Plotting sigmoid\n",
    "\n",
    "x = np.linspace(-5,5,500)\n",
    "y = sigmoid(x)\n",
    "\n",
    "plt.plot(x,y)\n",
    "plt.xlabel(r'$z$')\n",
    "plt.ylabel(r'$\\frac{1}{1+\\exp^{-z}}$')\n",
    "plt.title('Sigmoid function')\n",
    "plt.grid()\n",
    "plt.show()\n"
   ]
  },
  {
   "cell_type": "markdown",
   "id": "05b53c79",
   "metadata": {},
   "source": [
    "## Cost function"
   ]
  },
  {
   "cell_type": "markdown",
   "id": "c9d679c8",
   "metadata": {},
   "source": [
    "Given a set of $m$ training examples $x^{(i)}$ with $i\\in\\{0,1,\\dots,m\\}$, and the appropiate labels $y^{(i)}$, we want the prediction $\\hat{y}^{(i)}$ to be $\\hat{y}^{(i)}\\approx y^{(i)}$\n",
    "\n",
    "We define an **Error function** (or **Loss function**). We could select the squared error\n",
    "\n",
    "$$\\mathcal{L}\\left(\\hat{y},y\\right)=\\frac{1}{2}\\left(\\hat{y}-y\\right)^2$$\n",
    "\n",
    "but this may not achieve a global minima, since the optimization problem becames non-convex.\n",
    "\n",
    "We define the **Cost function** as \n",
    "\n",
    "$$J(w,b) = \\frac{1}{m}\\sum_{i=1}^m \\mathcal{L}\\left(\\hat{y}^{(i)}, y^{(i)}\\right)$$"
   ]
  },
  {
   "cell_type": "markdown",
   "id": "43d67885",
   "metadata": {},
   "source": [
    "## Gradient Descent"
   ]
  },
  {
   "cell_type": "markdown",
   "id": "4372c7e4",
   "metadata": {},
   "source": [
    "Find the $w$ and $b$ that minimize $J(w,b)$. In order to do that, we just need to repeat\n",
    "\n",
    "$$w_{t+1} = w_{t}-\\alpha \\frac{\\partial J(w,b)}{\\partial w}$$\n",
    "\n",
    "$$b_{t+1} = b_{t}-\\alpha \\frac{\\partial J(w,b)}{\\partial b}$$\n",
    "\n",
    "Using the above definition of the loss function (or rather the error function), we derive with respect to $w$\n",
    "\n",
    "$\\frac{\\partial J(w,b)}{\\partial w}=\\frac{\\partial}{\\partial w}\\left[\\frac{1}{2}\\left(\\hat{y}-y\\right)^2\\right]=\\left(\\hat{y}-y\\right)\\frac{\\partial}{\\partial w}\\left[\\hat{y}-y\\right]=\\left(\\hat{y}-y\\right)\\frac{\\partial\\hat{y}}{\\partial w}=\\left(\\hat{y}-y\\right)\\frac{d\\sigma}{dz}\\frac{\\partial z}{\\partial w}$\n",
    "\n",
    "where $\\hat{y}=\\sigma(z)=\\sigma\\left(w^T x + b\\right)$. \n",
    "\n",
    "Let's first get partial derivative of the sigmoid function with respect to $z$.\n",
    "\n",
    "$$\\frac{d\\sigma}{dz}=\\frac{d}{dz}\\left(\\frac{1}{1+\\exp^{-z}}\\right)=\\left(\\frac{1}{1+\\exp^{-z}}\\right)^2\\left(\\exp^{-z}\\right)=\\sigma(z)^2\\left(\\frac{1}{\\sigma(z)}-1\\right)=\\sigma(z)(1-\\sigma(z))$$\n",
    "\n",
    "Finally\n",
    "\n",
    "$$\\frac{\\partial z}{\\partial w}=x$$\n",
    "\n",
    "Therefore\n",
    "\n",
    "$$\\frac{\\partial J(w,b)}{\\partial w}=\\left(\\hat{y}-y\\right)\\frac{d\\sigma}{dz}\\frac{\\partial z}{\\partial w}= \\left(\\sigma(z)-y\\right)\\sigma(z)(1-\\sigma(z))x$$"
   ]
  },
  {
   "cell_type": "code",
   "execution_count": null,
   "id": "6b35a82d",
   "metadata": {},
   "outputs": [],
   "source": []
  }
 ],
 "metadata": {
  "kernelspec": {
   "display_name": "Python 3",
   "language": "python",
   "name": "python3"
  },
  "language_info": {
   "codemirror_mode": {
    "name": "ipython",
    "version": 3
   },
   "file_extension": ".py",
   "mimetype": "text/x-python",
   "name": "python",
   "nbconvert_exporter": "python",
   "pygments_lexer": "ipython3",
   "version": "3.8.5"
  }
 },
 "nbformat": 4,
 "nbformat_minor": 5
}
